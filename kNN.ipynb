{
 "cells": [
  {
   "cell_type": "code",
   "execution_count": 8,
   "metadata": {},
   "outputs": [
    {
     "data": {
      "text/plain": [
       "NearestNeighbors(algorithm='auto', leaf_size=30, metric='minkowski',\n",
       "         metric_params=None, n_jobs=1, n_neighbors=1, p=2, radius=1.0)"
      ]
     },
     "execution_count": 8,
     "metadata": {},
     "output_type": "execute_result"
    }
   ],
   "source": [
    "# samples = [[0., 0., 0.], [0., .5, 0.], [1., 1., .5]]\n",
    "# from sklearn.neighbors import NearestNeighbors\n",
    "# neigh = NearestNeighbors(n_neighbors=1)\n",
    "# neigh.fit(samples)"
   ]
  },
  {
   "cell_type": "code",
   "execution_count": 5,
   "metadata": {},
   "outputs": [
    {
     "name": "stdout",
     "output_type": "stream",
     "text": [
      "(array([[0.5]]), array([[2]]))\n"
     ]
    }
   ],
   "source": [
    "# print(neigh.kneighbors([[., 1., 1.]]))"
   ]
  },
  {
   "cell_type": "code",
   "execution_count": 6,
   "metadata": {},
   "outputs": [
    {
     "name": "stdout",
     "output_type": "stream",
     "text": [
      "(array([[0.]]), array([[0]]))\n"
     ]
    }
   ],
   "source": [
    "# print(neigh.kneighbors([[0., 0., 0.]]))"
   ]
  },
  {
   "cell_type": "code",
   "execution_count": null,
   "metadata": {},
   "outputs": [],
   "source": [
    "# samples = [....will be 1600 vectors with first 900 from ceeinject and second 900 from renos.....]\n",
    "# features = [....will be 1600 chars with first 900 are 'C' and second 900 are 'R'.....]"
   ]
  },
  {
   "cell_type": "code",
   "execution_count": 69,
   "metadata": {},
   "outputs": [
    {
     "name": "stdout",
     "output_type": "stream",
     "text": [
      "800\n",
      "1600\n"
     ]
    }
   ],
   "source": [
    "import numpy as np \n",
    "import re\n",
    "# Note: dont change dbscan.txt locally\n",
    "samples = []\n",
    "ceeinject = open(\"CeeInject_w2v.txt\", \"rt\")\n",
    "index = 0\n",
    "for line in ceeinject:\n",
    "    if index == 800:\n",
    "        break\n",
    "\n",
    "    strs = line[1:len(line)-2]\n",
    "    nums = strs.split(\",\")\n",
    "    for i in range(0, len(nums)): \n",
    "        nums[i] = float(nums[i]) \n",
    "    samples.append(nums)\n",
    "    index += 1\n",
    "    \n",
    "ceeinject.close()\n",
    "print(len(samples))\n",
    "\n",
    "\n",
    "renos = open(\"Renos_w2v.txt\", \"rt\")\n",
    "index2 = 0\n",
    "for line in renos:\n",
    "    if index2 == 800:\n",
    "        break\n",
    "\n",
    "    strs = line[1:len(line)-2]\n",
    "    nums = strs.split(\",\")\n",
    "    for i in range(0, len(nums)): \n",
    "        nums[i] = float(nums[i]) \n",
    "    samples.append(nums)\n",
    "    index2 += 1\n",
    "    \n",
    "fin.close()\n",
    "print(len(samples))\n"
   ]
  },
  {
   "cell_type": "code",
   "execution_count": 71,
   "metadata": {},
   "outputs": [
    {
     "name": "stdout",
     "output_type": "stream",
     "text": [
      "1700\n",
      "1800\n"
     ]
    }
   ],
   "source": [
    "ceeinject = open(\"CeeInject_w2v.txt\", \"rt\")\n",
    "index = 0\n",
    "for line in ceeinject:\n",
    "    if index >= 800:\n",
    "        strs = line[1:len(line)-2]\n",
    "        nums = strs.split(\",\")\n",
    "        for i in range(0, len(nums)): \n",
    "            nums[i] = float(nums[i]) \n",
    "        samples.append(nums)\n",
    "    index += 1\n",
    "    \n",
    "ceeinject.close()\n",
    "print(len(samples))\n",
    "\n",
    "\n",
    "renos = open(\"Renos_w2v.txt\", \"rt\")\n",
    "index2 = 0\n",
    "for line in renos:\n",
    "    if index2 >= 800:\n",
    "        strs = line[1:len(line)-2]\n",
    "        nums = strs.split(\",\")\n",
    "        for i in range(0, len(nums)): \n",
    "            nums[i] = float(nums[i]) \n",
    "        samples.append(nums)\n",
    "    index2 += 1\n",
    "    \n",
    "fin.close()\n",
    "print(len(samples)) # now sample has first 800 as CeeInject second 800 as Renos, third 100 as Ceeinject and fourth 100 as Renos\n",
    "\n"
   ]
  },
  {
   "cell_type": "code",
   "execution_count": 139,
   "metadata": {},
   "outputs": [
    {
     "name": "stdout",
     "output_type": "stream",
     "text": [
      "1600\n",
      "1800\n"
     ]
    }
   ],
   "source": [
    "# fill in features array\n",
    "features = []\n",
    "for i in range(800):\n",
    "    features.append(0) # 0 means C\n",
    "for i in range(800):\n",
    "    features.append(1) # 1 means R\n",
    "print(len(features))\n",
    "\n",
    "for i in range(900):\n",
    "    if i >= 800:\n",
    "        features.append(0)\n",
    "for i in range(900):\n",
    "    if(i >= 800):\n",
    "        features.append(1)\n",
    "print(len(features))"
   ]
  },
  {
   "cell_type": "code",
   "execution_count": 140,
   "metadata": {},
   "outputs": [],
   "source": [
    "samples = np.array(samples)\n",
    "features = np.array(features)\n"
   ]
  },
  {
   "cell_type": "markdown",
   "metadata": {},
   "source": [
    "# samples and features are ready to get trained "
   ]
  },
  {
   "cell_type": "code",
   "execution_count": 277,
   "metadata": {},
   "outputs": [
    {
     "name": "stdout",
     "output_type": "stream",
     "text": [
      "[0 0 0 0 0 0 0 0 0 0 0 0 1 1 1 1 1 1 1 1 1 1]\n",
      "[1 1 1 1 1 1 1 1 1 1 0 0 0 0 0 0 0 0 0 0]\n",
      "[0 0 0 0 0 0 0 0 0 0 1 1 1 1 1 1 1 1 1 1]\n"
     ]
    }
   ],
   "source": [
    "print(features[788:810]) # see some of the features data\n",
    "print(features[1590:1610]) # see some of the features data\n",
    "print(features[1690:1710]) # see some of the features data"
   ]
  },
  {
   "cell_type": "code",
   "execution_count": null,
   "metadata": {
    "collapsed": true
   },
   "outputs": [],
   "source": []
  },
  {
   "cell_type": "code",
   "execution_count": 166,
   "metadata": {},
   "outputs": [
    {
     "name": "stdout",
     "output_type": "stream",
     "text": [
      "1800\n",
      "1800\n"
     ]
    }
   ],
   "source": [
    "# y = []\n",
    "# for i in range(800):\n",
    "#     y.append('C') # 0 means C\n",
    "# for i in range(800):\n",
    "#     y.append('R') # 1 means R\n",
    "# print(len(features))\n",
    "\n",
    "# for i in range(900):\n",
    "#     if i >= 800:\n",
    "#         y.append('C')\n",
    "# for i in range(900):\n",
    "#     if(i >= 800):\n",
    "#         y.append('R')\n",
    "# print(len(y))"
   ]
  },
  {
   "cell_type": "code",
   "execution_count": 316,
   "metadata": {},
   "outputs": [],
   "source": [
    "# def KNN(samples, y,neighbors):\n",
    "#     # Import train_test_split function\n",
    "#     from sklearn.model_selection import train_test_split\n",
    "#     print(type(samples))\n",
    "#     print(type(y))\n",
    "#     # Split dataset into training set and test set\n",
    "#     X_train, X_test, y_train, y_test = train_test_split(samples, y, test_size=0.11) # 1600/1800% training and 200/1800% test\n",
    "    \n",
    "#     from sklearn.neighbors import KNeighborsClassifier\n",
    "#     #Create KNN Classifier\n",
    "#     knn = KNeighborsClassifier(n_neighbors=neighbors)\n",
    "\n",
    "#     #Train the model using the training sets\n",
    "#     knn.fit(X_train, y_train)\n",
    "\n",
    "#     #Predict the response for test dataset\n",
    "#     y_pred = knn.predict(X_test)\n",
    "    \n",
    "#     print(y_pred)\n",
    "#     print(type(y_pred))\n",
    "#     #Import scikit-learn metrics module for accuracy calculation\n",
    "#     from sklearn import metrics\n",
    "#     from sklearn.metrics import roc_curve\n",
    "#     from sklearn.metrics import auc\n",
    "#     import matplotlib.pyplot as plt\n",
    "#     # Model Accuracy, how often is the classifier correct?\n",
    "#     print(\"Accuracy with {} neighbors:\".format(neighbors),metrics.accuracy_score(y_test, y_pred))\n",
    "#     for i in range(len(y_pred)):\n",
    "#         if y_pred[i] == 'C':\n",
    "#             y_pred[i] = 0\n",
    "#         else:\n",
    "#             y_pred[i] = 1\n",
    "            \n",
    "#     fpr, tpr, threshold = roc_curve(y_test, y_pred[:0])\n",
    "#     roc_auc = auc(fpr, tpr)\n",
    "\n",
    "#     plt.title('CeeInject VS Renos')\n",
    "#     plt.plot(fpr, tpr, 'b', label = 'AUC = %0.2f' % roc_auc)\n",
    "#     plt.legend(loc = 'lower right')\n",
    "#     plt.plot([0, 1], [0, 1],'r--')\n",
    "#     plt.xlim([0, 1])\n",
    "#     plt.ylim([0, 1])\n",
    "#     plt.ylabel('True Positive Rate')\n",
    "#     plt.xlabel('False Positive Rate')\n",
    "#     plt.title('ROC Curve of kNN')\n",
    "#     plt.show()"
   ]
  },
  {
   "cell_type": "code",
   "execution_count": 317,
   "metadata": {},
   "outputs": [
    {
     "name": "stdout",
     "output_type": "stream",
     "text": [
      "<class 'numpy.ndarray'>\n",
      "<class 'list'>\n",
      "['C' 'R' 'C' 'R' 'R' 'C' 'C' 'C' 'R' 'C' 'C' 'R' 'R' 'C' 'C' 'C' 'C' 'R'\n",
      " 'C' 'C' 'R' 'R' 'C' 'C' 'C' 'C' 'R' 'R' 'R' 'C' 'R' 'R' 'C' 'R' 'R' 'R'\n",
      " 'C' 'R' 'C' 'R' 'C' 'C' 'C' 'R' 'R' 'R' 'C' 'R' 'C' 'C' 'C' 'R' 'C' 'R'\n",
      " 'C' 'C' 'R' 'R' 'C' 'C' 'R' 'R' 'R' 'R' 'R' 'R' 'C' 'R' 'C' 'C' 'R' 'C'\n",
      " 'C' 'C' 'C' 'C' 'C' 'C' 'R' 'R' 'C' 'C' 'C' 'R' 'C' 'R' 'C' 'R' 'C' 'C'\n",
      " 'C' 'R' 'C' 'C' 'C' 'C' 'C' 'C' 'R' 'C' 'R' 'C' 'R' 'R' 'C' 'R' 'C' 'C'\n",
      " 'R' 'C' 'C' 'C' 'R' 'C' 'C' 'R' 'C' 'R' 'C' 'R' 'R' 'C' 'R' 'C' 'C' 'C'\n",
      " 'C' 'C' 'R' 'R' 'C' 'C' 'C' 'R' 'R' 'C' 'R' 'R' 'R' 'R' 'R' 'C' 'R' 'C'\n",
      " 'C' 'C' 'C' 'R' 'C' 'R' 'R' 'C' 'C' 'C' 'R' 'R' 'C' 'R' 'C' 'R' 'C' 'C'\n",
      " 'C' 'R' 'R' 'C' 'R' 'C' 'C' 'C' 'R' 'C' 'C' 'R' 'R' 'R' 'C' 'C' 'C' 'C'\n",
      " 'R' 'C' 'C' 'C' 'R' 'C' 'R' 'C' 'R' 'C' 'C' 'C' 'R' 'C' 'R' 'C' 'C' 'C']\n",
      "<class 'numpy.ndarray'>\n",
      "Accuracy with 6 neighbors: 0.9292929292929293\n"
     ]
    }
   ],
   "source": [
    "KNN(samples, y, 6)"
   ]
  },
  {
   "cell_type": "code",
   "execution_count": null,
   "metadata": {},
   "outputs": [],
   "source": []
  },
  {
   "cell_type": "code",
   "execution_count": 318,
   "metadata": {},
   "outputs": [
    {
     "name": "stdout",
     "output_type": "stream",
     "text": [
      "Model score:  0.96\n",
      "Test set length:  200\n"
     ]
    },
    {
     "data": {
      "image/png": "[encoded data removed]",
      "text/plain": [
       "<matplotlib.figure.Figure at 0x1a1749a3c8>"
      ]
     },
     "metadata": {},
     "output_type": "display_data"
    }
   ],
   "source": [
    "# def KNN(samples, features,neighbors):\n",
    "from sklearn.neighbors import KNeighborsClassifier\n",
    "from sklearn.model_selection import train_test_split\n",
    "from sklearn.metrics import roc_curve\n",
    "from sklearn.metrics import auc\n",
    "import matplotlib.pyplot as plt\n",
    "\n",
    "#     X_train is the training data set.\n",
    "#     y_train is the set of labels to all the data in X_train.\n",
    "#     X_test is the test data set.\n",
    "#     y_test is the set of labels to all the data in X_test.\n",
    "neighbors = 6\n",
    "X_train, X_test, y_train, y_test = train_test_split(samples, features, test_size=0.111) # 1600/1800% training and 200/1800% test\n",
    "knn = KNeighborsClassifier(n_neighbors = neighbors)\n",
    "knn.fit(X_train,y_train)\n",
    "print(\"Model score: \", knn.score(X_train, y_train))\n",
    "y_scores = knn.predict_proba(X_test) # look at the probabilities the model assigned to each class:\n",
    "\n",
    "print(\"Test set length: \", len(y_scores))\n",
    "\n",
    "# print(\"Accuracy with {} neighbors:\".format(neighbors),metrics.accuracy_score(y_test, y_scores))\n",
    "\n",
    "fpr, tpr, threshold = roc_curve(y_test, y_scores[:, 1]) # only select the probability estimates of the positive class\n",
    "roc_auc = auc(fpr, tpr)\n",
    "\n",
    "plt.title('CeeInject vs Renos')\n",
    "plt.plot(fpr, tpr, 'b', label = 'AUC = %0.2f' % roc_auc)\n",
    "plt.legend(loc = 'lower right')\n",
    "plt.plot([0, 1], [0, 1],'r--')\n",
    "plt.xlim([0, 1])\n",
    "plt.ylim([0, 1])\n",
    "plt.ylabel('True Positive Rate')\n",
    "plt.xlabel('False Positive Rate')\n",
    "plt.title('ROC Curve of kNN with neighbor = {}'.format(neighbors))\n",
    "plt.show()\n"
   ]
  },
  {
   "cell_type": "code",
   "execution_count": null,
   "metadata": {},
   "outputs": [],
   "source": []
  },
  {
   "cell_type": "code",
   "execution_count": null,
   "metadata": {},
   "outputs": [],
   "source": []
  },
  {
   "cell_type": "code",
   "execution_count": 319,
   "metadata": {},
   "outputs": [
    {
     "name": "stdout",
     "output_type": "stream",
     "text": [
      "200\n"
     ]
    }
   ],
   "source": [
    "# read data into list to predict using trained model above\n",
    "challenge = open(\"Challenge_w2v.txt\", \"rt\")\n",
    "i = 0\n",
    "challenge_data = []\n",
    "for line in challenge: \n",
    "    strs = line[1:len(line)-2]\n",
    "    nums = strs.split(\",\")\n",
    "    for i in range(0, len(nums)): \n",
    "        nums[i] = float(nums[i]) \n",
    "    challenge_data.append(nums)\n",
    "    i += 1\n",
    "challenge_data = np.array(challenge_data)\n",
    "challenge.close()\n",
    "print(len(challenge_data))"
   ]
  },
  {
   "cell_type": "code",
   "execution_count": 320,
   "metadata": {},
   "outputs": [],
   "source": [
    "probs_challenge = knn.predict(challenge_data) # use trained model to predict data from challenge"
   ]
  },
  {
   "cell_type": "code",
   "execution_count": 321,
   "metadata": {},
   "outputs": [
    {
     "name": "stdout",
     "output_type": "stream",
     "text": [
      "[1 0 1 1 0 1 0 1 0 0 0 0 1 1 1 1 0 1 1 0 1 1 0 0 0 1 0 1 1 0 0 0 0 1 1 0 0\n",
      " 0 1 1 0 1 1 1 0 0 1 1 1 0 1 0 0 1 1 1 0 0 0 1 0 1 1 1 0 1 0 1 0 0 0 1 0 0\n",
      " 0 0 1 0 0 0 0 0 1 0 0 1 1 0 0 0 1 1 1 1 0 1 0 1 1 0 1 1 0 0 0 1 1 0 0 1 1\n",
      " 0 0 1 1 0 0 0 1 1 1 1 0 0 1 0 1 0 0 0 0 0 0 1 0 0 1 1 1 1 1 0 1 0 0 0 1 0\n",
      " 0 1 1 0 0 0 1 0 0 0 0 1 0 0 1 1 1 0 0 0 1 1 1 0 1 1 1 0 1 1 0 0 0 0 1 0 1\n",
      " 0 1 1 1 1 1 1 1 1 1 0 0 1 0 0]\n"
     ]
    }
   ],
   "source": [
    "print(probs_challenge) # see classified results"
   ]
  },
  {
   "cell_type": "code",
   "execution_count": 322,
   "metadata": {},
   "outputs": [],
   "source": [
    "# next write classified results into solution.txt\n",
    "classifications_challenge = []\n",
    "for ele in probs_challenge: # remember 0 means C and 1 means R.\n",
    "    if(ele == 0):\n",
    "        classifications_challenge.append('C')\n",
    "    else:\n",
    "        classifications_challenge.append('R')\n",
    "\n",
    "\n",
    "import os\n",
    "import glob\n",
    "txtfiles = []\n",
    "total_size = 0\n",
    "prediction = open( \"solution.txt\", \"w+\" )\n",
    "i = 0\n",
    "for file in sorted(glob.glob(\"Challenge/*.txt\")):\n",
    "    prediction.write(file[10: len(file)-4] + \",\" + classifications_challenge[i] + \"\\n\")\n",
    "    i += 1\n",
    "    "
   ]
  },
  {
   "cell_type": "code",
   "execution_count": 323,
   "metadata": {},
   "outputs": [
    {
     "name": "stdout",
     "output_type": "stream",
     "text": [
      "lines in solution.txt: 200\n"
     ]
    }
   ],
   "source": [
    "# confirm the length of the solution.txt file\n",
    "fname = 'solution.txt'\n",
    "def file_len(fname):\n",
    "    with open(fname) as f:\n",
    "        for j, l in enumerate(f):\n",
    "            pass\n",
    "        return j + 1  \n",
    "print(\"lines in solution.txt:\" , file_len(fname))"
   ]
  },
  {
   "cell_type": "code",
   "execution_count": null,
   "metadata": {
    "collapsed": true
   },
   "outputs": [],
   "source": []
  },
  {
   "cell_type": "code",
   "execution_count": null,
   "metadata": {
    "collapsed": true
   },
   "outputs": [],
   "source": []
  }
 ],
 "metadata": {
  "kernelspec": {
   "display_name": "Python 3",
   "language": "python",
   "name": "python3"
  },
  "language_info": {
   "codemirror_mode": {
    "name": "ipython",
    "version": 3
   },
   "file_extension": ".py",
   "mimetype": "text/x-python",
   "name": "python",
   "nbconvert_exporter": "python",
   "pygments_lexer": "ipython3",
   "version": "3.6.9"
  }
 },
 "nbformat": 4,
 "nbformat_minor": 2
}
